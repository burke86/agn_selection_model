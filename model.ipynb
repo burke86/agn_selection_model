{
 "cells": [
  {
   "cell_type": "code",
   "execution_count": 13,
   "metadata": {},
   "outputs": [],
   "source": [
    "import qso_fit as qso_fit\n",
    "import numpy as np\n",
    "import matplotlib.pyplot as plt\n",
    "import astropy.units as u\n",
    "import astropy.constants as const\n",
    "from astropy.io import fits\n",
    "from astropy.cosmology import FlatLambdaCDM, z_at_value\n",
    "\n",
    "cosmo = FlatLambdaCDM(H0=70, Om0=0.3, Tcmb0=2.725)\n",
    "\n",
    "%matplotlib inline\n",
    "plt.rcParams[\"font.family\"] = \"Times New Roman\"\n",
    "plt.rcParams['mathtext.fontset'] = \"custom\"\n",
    "plt.rcParams[\"mathtext.rm\"] =  \"Times New Roman\"\n",
    "plt.rcParams[\"mathtext.it\"] =  \"Times New Roman\"\n",
    "plt.rcParams[\"mathtext.bf\"] =  \"Times New Roman\"\n",
    "plt.rcParams.update({'font.size': 14})\n",
    "\n",
    "NSA_PATH = \"nsa_v1_0_1.fits\""
   ]
  },
  {
   "cell_type": "markdown",
   "metadata": {},
   "source": [
    "## Mock Light Curve Generator\n",
    "\n",
    "Generate a mock damped random walk (DRW) light curve, adapted from ```astroML.time_series.generate_damped_drw1```."
   ]
  },
  {
   "cell_type": "code",
   "execution_count": 51,
   "metadata": {},
   "outputs": [],
   "source": [
    "def mock_drw(t_rest, tau=300., z=2.0, xmean=0, SFinf=0.3):\n",
    "    \n",
    "    N = len(t_rest)\n",
    "    \n",
    "    t_obs = t_rest * (1. + z) / tau\n",
    "\n",
    "    x = np.zeros(N)\n",
    "    x[0] = np.random.normal(xmean, SFinf)\n",
    "    E = np.random.normal(0, 1, N)\n",
    "\n",
    "    for i in range(1, N):\n",
    "        dt = t_obs[i] - t_obs[i - 1]\n",
    "        x[i] = (x[i - 1]\n",
    "                - dt * (x[i - 1] - xmean)\n",
    "                + np.sqrt(2) * SFinf * E[i] * np.sqrt(dt))\n",
    "\n",
    "    return x"
   ]
  },
  {
   "cell_type": "markdown",
   "metadata": {},
   "source": [
    "## Define Cadence\n",
    "\n",
    "Generate an array of times (days) given a number of seasons, epochs per season, and typical seperation per epoch in days. Defaults to DES."
   ]
  },
  {
   "cell_type": "code",
   "execution_count": 286,
   "metadata": {},
   "outputs": [],
   "source": [
    "def t_cadence(seasons=5,epochs_per_season=3,sep_per_epoch=1):\n",
    "    t_days = range(365*seasons)\n",
    "    t_cadence = []\n",
    "    for s in range(seasons):\n",
    "        t_cadence.append(t_days[365*s:epochs_per_season+365*s:sep_per_epoch])\n",
    "    return np.array(t_cadence).flatten()"
   ]
  },
  {
   "cell_type": "markdown",
   "metadata": {},
   "source": [
    "## Generate Ensemle of Light Curves\n",
    "\n",
    "Generate ensemble of DRW light curves given a certain survey cadence and fit light curves using ```qso_fit``` code.\n",
    "\n",
    "We assume AGNs are \"ideal\", that is have the exact statistics ```qso_fit``` is looking for. How does the structure function depend on stellar mass?"
   ]
  },
  {
   "cell_type": "code",
   "execution_count": 329,
   "metadata": {},
   "outputs": [],
   "source": [
    "def ensemble(t_cadence,mag_lim=25,num_objects=10000,distribution=\"nsa\",frac_agn=.1,error_level=0.002):\n",
    "    \n",
    "    a1 = -4.10; a2 = 0.14; a3 = 2.92; a4 = -0.07 # g-band structure function parameters\n",
    "    qso = []; var = []; not_qso = []; mags = [] # initialize output arrays\n",
    "\n",
    "    print(\"Generating universe from %s-like distribution.\" % distribution)\n",
    "    \n",
    "    # Which distribution of galaxies to use\n",
    "    if distribution.lower() == \"toy\":\n",
    "        # toy universe\n",
    "        absolute_mags = np.random.normal(-19.8,1.34,num_objects)\n",
    "        d = np.random.uniform(0,8500,num_objects)*u.Mpc\n",
    "        redshifts = [z_at_value(cosmo.comoving_distance,d_i) for d_i in d] \n",
    "        # convert to apparent magnitudes\n",
    "        apparent_mags = absolute_mags + 5*np.log10(d.to(u.pc)/u.pc) - 5\n",
    "    elif distribution.lower() == \"nsa\":\n",
    "        # Nasa Sloan Atlas (NSA) of galaxies\n",
    "        nsa_fits = fits.open(NSA_PATH)\n",
    "        obj_nsa = nsa_fits[1].data\n",
    "        redshifts = obj_nsa[\"Z\"]\n",
    "        fs = np.array([f[3] for f in obj_nsa[\"PETRO_FLUX\"]]) #  SDSS-style Petrosian flux\n",
    "        where_pos = fs > 0\n",
    "        fs = fs[where_pos]\n",
    "        redshifts = redshifts[where_pos]\n",
    "        # convert to apparent magnitudes (nanomaggies to mag)\n",
    "        apparent_mags = [22.5 - 2.5*np.log10(f) for f in fs]\n",
    "        # shuffle\n",
    "        np.random.shuffle(np.array(apparent_mags))\n",
    "        np.random.shuffle(np.array(redshifts))\n",
    "        # clip size\n",
    "        num_nsa = len(redshifts)\n",
    "        if num_objects > num_nsa:\n",
    "            print(\"Warning: Clipping number of objects to %d.\" % num_nsa)\n",
    "            num_objects = num_nsa\n",
    "        else:\n",
    "            apparent_mags = np.random.choice(apparent_mags,num_objects)\n",
    "            redshifts = np.random.choice(redshifts,num_objects)\n",
    "    elif distribution.lower() == \"cosmos\":\n",
    "        # COSMOS Database\n",
    "        pass\n",
    "    \n",
    "    plt.hist(apparent_mags,bins=range(15,28,1));\n",
    "    print(\"Generating ensemble light curves of %d objects.\" % num_objects)\n",
    "        \n",
    "    # Generate ensemble of objects\n",
    "    for i in range(num_objects):\n",
    "        m = apparent_mags[i]\n",
    "        # AGN\n",
    "        if i < frac_agn*num_objects:\n",
    "            z = redshifts[i]\n",
    "            # Definitions from Butler and Bloom (2011)\n",
    "            sigma_hat = np.sqrt(10**(a1+a2*(m-19)))\n",
    "            tau = 10**(a3+a4*(m-19))\n",
    "            SFinf = sigma_hat*tau**0.5\n",
    "            # Generate mock damped random walk light curve\n",
    "            mag = mock_drw(t_rest=t_cadence,tau=tau,z=z,xmean=m,SFinf=SFinf)\n",
    "        # non-AGN\n",
    "        else:\n",
    "            mag = np.random.normal(m,error_level*m,len(t_cadence))\n",
    "        mag_err = error_level*mag\n",
    "        # Fit mock light curve using qso_fit\n",
    "        fit = qso_fit.qso_fit(t_cadence,mag,mag_err,filter='g',sys_err=0,return_model=0)\n",
    "        qso.append(fit[\"signif_qso\"])\n",
    "        var.append(fit[\"signif_vary\"])\n",
    "        not_qso.append(fit[\"signif_not_qso\"])\n",
    "        mags.append(m)\n",
    "        \n",
    "    # Truth array\n",
    "    agn = np.full(num_objects,False)\n",
    "    agn[:int(frac_agn*num_objects)] = True\n",
    "            \n",
    "    return np.array(qso), np.array(var), np.array(not_qso), np.array(mags), np.array(agn)"
   ]
  },
  {
   "cell_type": "markdown",
   "metadata": {},
   "source": [
    "## Analyze Survey\n",
    "\n",
    "Generate the cadence, ensemble light curves, and plot variability metrics."
   ]
  },
  {
   "cell_type": "code",
   "execution_count": 330,
   "metadata": {
    "scrolled": false
   },
   "outputs": [
    {
     "name": "stdout",
     "output_type": "stream",
     "text": [
      "Generating universe from nsa-like distribution.\n"
     ]
    },
    {
     "name": "stderr",
     "output_type": "stream",
     "text": [
      "/opt/local/Library/Frameworks/Python.framework/Versions/3.7/lib/python3.7/site-packages/ipykernel_launcher.py:22: RuntimeWarning: invalid value encountered in greater\n"
     ]
    },
    {
     "name": "stdout",
     "output_type": "stream",
     "text": [
      "Generating ensemble light curves of 10000 objects.\n"
     ]
    },
    {
     "data": {
      "image/png": "[encoded data removed]",
      "text/plain": [
       "<Figure size 432x288 with 1 Axes>"
      ]
     },
     "metadata": {
      "needs_background": "light"
     },
     "output_type": "display_data"
    }
   ],
   "source": [
    "t_cad=t_cadence()\n",
    "qso, var, not_qso, mags, agn = ensemble(t_cad)"
   ]
  },
  {
   "cell_type": "code",
   "execution_count": 347,
   "metadata": {},
   "outputs": [
    {
     "data": {
      "image/png": "[encoded data removed]",
      "text/plain": [
       "<Figure size 432x288 with 1 Axes>"
      ]
     },
     "metadata": {
      "needs_background": "light"
     },
     "output_type": "display_data"
    }
   ],
   "source": [
    "# Plot variability metrics\n",
    "plt.scatter(var[agn==True],qso[agn==True],alpha=0.1,color=\"blue\",s=.3);\n",
    "plt.scatter(var[agn==False],qso[agn==False],alpha=0.1,color=\"red\",s=.3);\n",
    "plt.hlines(3,3,10**4,linestyle=\"dashed\")\n",
    "plt.vlines(3,3,10**4,linestyle=\"dashed\")\n",
    "ax=plt.gca()\n",
    "ax.set_yscale('log')\n",
    "ax.set_xscale('log')\n",
    "ax.set_ylim(10**-1,10**1)\n",
    "ax.set_xlim(10**-2,10**2)\n",
    "plt.ylabel(\"$\\sigma_{QSO}$\",fontsize=18);\n",
    "plt.xlabel(\"$\\sigma_{var}$\",fontsize=18);"
   ]
  },
  {
   "cell_type": "code",
   "execution_count": 340,
   "metadata": {},
   "outputs": [
    {
     "name": "stdout",
     "output_type": "stream",
     "text": [
      "[0.102880658436214, 0.08668515950069348, 0.10013351134846461, 0.09849931787175989, 0.11143695014662756, 0.08955223880597014, 0.1794871794871795, 0.0, 0.0]\n"
     ]
    },
    {
     "data": {
      "image/png": "[encoded data removed]",
      "text/plain": [
       "<Figure size 432x288 with 1 Axes>"
      ]
     },
     "metadata": {
      "needs_background": "light"
     },
     "output_type": "display_data"
    }
   ],
   "source": [
    "prob = []\n",
    "hist, bin_edges = np.histogram(mags,bins=range(15,25))\n",
    "for i in range(len(bin_edges)-1):\n",
    "    mag_low = bin_edges[i]\n",
    "    mag_high = bin_edges[i+1]\n",
    "    ind = np.argwhere((mags>mag_low) & (mags<mag_high))\n",
    "    if len(ind) == 0:\n",
    "        print(\"none\")\n",
    "        continue\n",
    "    count = 0\n",
    "    for i in ind:\n",
    "        if qso[i] > 3 and var[i] > 3:\n",
    "            count += 1\n",
    "    prob.append(count/len(ind))\n",
    "print(prob)\n",
    "plt.hlines(0.1,15,24,linestyles=\"dashed\");\n",
    "plt.plot(bin_edges[:-1],prob,linewidth=2);\n",
    "plt.xlabel(\"Magnitude $g$\");\n",
    "plt.ylabel(\"Detection Fraction\");\n",
    "plt.ylim(0,1.1);\n",
    "plt.xlim(15,24,);"
   ]
  },
  {
   "cell_type": "code",
   "execution_count": null,
   "metadata": {},
   "outputs": [],
   "source": []
  },
  {
   "cell_type": "code",
   "execution_count": null,
   "metadata": {},
   "outputs": [],
   "source": []
  }
 ],
 "metadata": {
  "kernelspec": {
   "display_name": "Python 3",
   "language": "python",
   "name": "python3"
  },
  "language_info": {
   "codemirror_mode": {
    "name": "ipython",
    "version": 3
   },
   "file_extension": ".py",
   "mimetype": "text/x-python",
   "name": "python",
   "nbconvert_exporter": "python",
   "pygments_lexer": "ipython3",
   "version": "3.7.2"
  }
 },
 "nbformat": 4,
 "nbformat_minor": 2
}
